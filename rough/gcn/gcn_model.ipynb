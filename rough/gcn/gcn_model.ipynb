{
 "cells": [
  {
   "metadata": {
    "ExecuteTime": {
     "end_time": "2024-04-13T08:06:28.277790Z",
     "start_time": "2024-04-13T08:06:28.272255Z"
    }
   },
   "cell_type": "code",
   "source": [
    "import torch\n",
    "import torch.nn as nn\n",
    "from torch.nn.parameter import Parameter\n",
    "from torch.nn.modules.module import Module\n",
    "\n",
    "from scipy.sparse import coo_matrix\n",
    "import numpy as np"
   ],
   "id": "initial_id",
   "outputs": [],
   "execution_count": 4
  },
  {
   "metadata": {
    "ExecuteTime": {
     "end_time": "2024-04-13T08:06:29.033635Z",
     "start_time": "2024-04-13T08:06:28.513227Z"
    }
   },
   "cell_type": "code",
   "source": [
    "from rough.code.gcn_layer import GCNLayer\n",
    "from rough.code.utils import adjust_tensor_size, normalize_adjacency\n",
    "\n",
    "# Example usage:\n",
    "num_nodes = 1000\n",
    "num_node_features = 1\n",
    "num_output_features = 512\n",
    "batch_size = 32\n",
    "\n",
    "# Create a random feature matrix (num_nodes x num_node_features)\n",
    "random_node_features = torch.rand(batch_size, num_nodes - 10, num_node_features)\n",
    "node_features = adjust_tensor_size(random_node_features, num_nodes, num_node_features)\n",
    "\n",
    "# Create a random adjacency matrix\n",
    "adjacency_matrix = torch.randint(0, 2, size=(batch_size, num_nodes, num_nodes))\n",
    "# Iterate over the diagonal elements\n",
    "# for i in range(num_nodes):\n",
    "#     if adjacency_matrix[i, i] == 0:\n",
    "#         adjacency_matrix[i, i] = 1\n",
    "\n",
    "normalized_adjacency_matrix = normalize_adjacency(adjacency_matrix, num_nodes, batch_size)\n",
    "\n",
    "# Instantiate the GCN layer\n",
    "gcn_layer = GCNLayer(in_features=num_node_features, out_features=num_output_features)\n",
    "\n",
    "# Perform a forward pass\n",
    "print(node_features.shape)\n",
    "print(normalized_adjacency_matrix.shape)\n",
    "gcn_output = gcn_layer(node_features, normalized_adjacency_matrix)\n",
    "\n",
    "print(\"\\n---Sample Inputs---\")\n",
    "print(\"Number of nodes: \", num_nodes)\n",
    "print(\"Number of features: \", num_node_features)\n",
    "print(\"Number of outputs: \", num_output_features)\n",
    "print(\"\\n---Matrices---\")\n",
    "print(\"Random Node Features: \", random_node_features.shape)\n",
    "print(\"Node features:\", node_features.shape)\n",
    "print(\"Adjacency matrix:\", adjacency_matrix.shape)\n",
    "print(\"Normalized Adjacency matrix:\", normalized_adjacency_matrix.shape)\n",
    "print(\"GCN In Features:\", num_node_features)\n",
    "print(\"GCN Out Features:\", num_output_features)\n",
    "print(\"\\n---GCN Model---\")\n",
    "print(\"GCN Layer Representation:\", gcn_layer.__repr__)\n",
    "print(\"GCN Output Shape:\", gcn_output.shape)"
   ],
   "id": "6d000d86f2f22f1b",
   "outputs": [
    {
     "name": "stdout",
     "output_type": "stream",
     "text": [
      "torch.Size([32, 1000, 1])\n",
      "torch.Size([32, 1000, 1000])\n",
      "\n",
      "---Sample Inputs---\n",
      "Number of nodes:  1000\n",
      "Number of features:  1\n",
      "Number of outputs:  512\n",
      "\n",
      "---Matrices---\n",
      "Random Node Features:  torch.Size([32, 990, 1])\n",
      "Node features: torch.Size([32, 1000, 1])\n",
      "Adjacency matrix: torch.Size([32, 1000, 1000])\n",
      "Normalized Adjacency matrix: torch.Size([32, 1000, 1000])\n",
      "GCN In Features: 1\n",
      "GCN Out Features: 512\n",
      "\n",
      "---GCN Model---\n",
      "GCN Layer Representation: <bound method GCNLayer.__repr__ of GCNLayer (1 -> 512)>\n",
      "GCN Output Shape: torch.Size([32, 1000, 512])\n"
     ]
    }
   ],
   "execution_count": 5
  },
  {
   "metadata": {
    "ExecuteTime": {
     "end_time": "2024-04-13T08:06:30.592655Z",
     "start_time": "2024-04-13T08:06:29.034728Z"
    }
   },
   "cell_type": "code",
   "source": [
    "import torch.optim as optim\n",
    "\n",
    "# For binary classification, targets could be a 1D tensor of size (batch_size,)\n",
    "targets = torch.randint(0, 2, (batch_size,))\n",
    "\n",
    "# Define the model\n",
    "model = GCNLayer(in_features=num_node_features, out_features=2)\n",
    "\n",
    "# Loss function\n",
    "criterion = nn.CrossEntropyLoss()\n",
    "optimizer = optim.Adam(model.parameters(), lr=0.01)\n",
    "\n",
    "# Training loop\n",
    "epochs = 100\n",
    "for epoch in range(epochs):\n",
    "    model.train()\n",
    "    optimizer.zero_grad()  # Clear gradients\n",
    "\n",
    "    # Forward pass\n",
    "    logits = model(node_features, normalized_adjacency_matrix)\n",
    "    # Since we have 2 output features, we use CrossEntropyLoss and gather logits for each graph\n",
    "    logits = logits.mean(1)  # Mean pooling\n",
    "    loss = criterion(logits, targets)\n",
    "\n",
    "    # Backward pass and optimization\n",
    "    loss.backward()\n",
    "    optimizer.step()\n",
    "\n",
    "    # Print loss every 10 epochs\n",
    "    if epoch % 10 == 0:\n",
    "        print(f'Epoch {epoch}, Loss: {loss.item()}')"
   ],
   "id": "f2c50ab61efe5511",
   "outputs": [
    {
     "name": "stdout",
     "output_type": "stream",
     "text": [
      "Epoch 0, Loss: 0.8817738890647888\n",
      "Epoch 10, Loss: 0.8024495244026184\n",
      "Epoch 20, Loss: 0.7449772357940674\n",
      "Epoch 30, Loss: 0.709841251373291\n",
      "Epoch 40, Loss: 0.6927292346954346\n",
      "Epoch 50, Loss: 0.6866394877433777\n",
      "Epoch 60, Loss: 0.68534916639328\n",
      "Epoch 70, Loss: 0.6853305697441101\n",
      "Epoch 80, Loss: 0.685374915599823\n",
      "Epoch 90, Loss: 0.6853427886962891\n"
     ]
    }
   ],
   "execution_count": 6
  },
  {
   "metadata": {},
   "cell_type": "code",
   "source": [
    "# Notes:\n",
    "# 1. Take the imports\n",
    "# 2. Take and Modify Cell 3 which shows how to call the model with the given inputs and preprocessing utilities\n",
    "# 3. Cell 6 is just to test. Not required to take this cell."
   ],
   "id": "9c165812b79c87b1",
   "outputs": [],
   "execution_count": null
  }
 ],
 "metadata": {
  "kernelspec": {
   "display_name": "Python 3",
   "language": "python",
   "name": "python3"
  },
  "language_info": {
   "codemirror_mode": {
    "name": "ipython",
    "version": 2
   },
   "file_extension": ".py",
   "mimetype": "text/x-python",
   "name": "python",
   "nbconvert_exporter": "python",
   "pygments_lexer": "ipython2",
   "version": "2.7.6"
  }
 },
 "nbformat": 4,
 "nbformat_minor": 5
}
