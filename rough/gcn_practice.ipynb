{
 "cells": [
  {
   "cell_type": "code",
   "execution_count": 6,
   "id": "initial_id",
   "metadata": {
    "collapsed": true,
    "ExecuteTime": {
     "end_time": "2024-03-21T17:55:18.230552Z",
     "start_time": "2024-03-21T17:55:18.226988Z"
    }
   },
   "outputs": [],
   "source": [
    "import tensorflow as tf\n",
    "import numpy as np"
   ]
  },
  {
   "cell_type": "code",
   "outputs": [],
   "source": [
    "class GCNModel(tf.keras.Model):\n",
    "    def __init__(self, no_classes, hidden_units):\n",
    "        super(GCNModel, self).__init__()\n",
    "        self.node_dense = tf.keras.layers.Dense(hidden_units, activation='relu')\n",
    "        self.edge_dense = tf.keras.layers.Dense(hidden_units, activation='relu')\n",
    "        self.output_layer = tf.keras.layers.Dense(no_classes, activation='softmax')\n",
    "\n",
    "    def call(self, inputs, training=False, **kwargs):\n",
    "        # Unpack inputs\n",
    "        node_features, edge_features, adjacency_matrix = inputs\n",
    "\n",
    "        # Process node features\n",
    "        node_output = self.node_dense(node_features)\n",
    "        print(node_output.shape)\n",
    "\n",
    "        edge_output = self.edge_dense(edge_features)\n",
    "        print(edge_output.shape)\n",
    "\n",
    "        # Determine the maximum size along the feature dimension\n",
    "        max_output_size = max(node_output.shape[-2], edge_output.shape[-2])\n",
    "        print(max_output_size)\n",
    "        print(node_output.shape[-2])\n",
    "        print(edge_output.shape[-2])\n",
    "        \n",
    "        # Pad node features to match the size of edge features\n",
    "        node_output_padded = tf.pad(node_output, [[0, 0], [0, 50], [0, 0]])\n",
    "        \n",
    "        print(node_output_padded.shape)\n",
    "        print(edge_output.shape)\n",
    "        \n",
    "        # Now both tensors have the same size along the feature dimension and can be concatenated\n",
    "        combined_output = tf.concat([node_output_padded, edge_output], axis=-1)\n",
    "        \n",
    "\n",
    "        adjacency_matrix_padded = tf.pad(adjacency_matrix, [[0, 0], [0, 50], [0, 50]])\n",
    "        print(adjacency_matrix_padded.shape)\n",
    "        print(combined_output.shape)\n",
    "\n",
    "        # Process adjacency matrix\n",
    "        adjacency_output = tf.matmul(adjacency_matrix_padded, combined_output)\n",
    "\n",
    "        # Perform graph convolution\n",
    "        graph_output = self.output_layer(adjacency_output)\n",
    "\n",
    "        return graph_output"
   ],
   "metadata": {
    "collapsed": false,
    "ExecuteTime": {
     "end_time": "2024-03-21T19:26:50.112564Z",
     "start_time": "2024-03-21T19:26:50.105122Z"
    }
   },
   "id": "6a65a8d679383c0a",
   "execution_count": 34
  },
  {
   "cell_type": "code",
   "outputs": [
    {
     "name": "stdout",
     "output_type": "stream",
     "text": [
      "(32, 50, 64)\n",
      "(32, 100, 64)\n",
      "100\n",
      "50\n",
      "100\n",
      "(32, 100, 64)\n",
      "(32, 100, 64)\n",
      "(32, 100, 100)\n",
      "(32, 100, 128)\n"
     ]
    }
   ],
   "source": [
    "num_hidden_units = 64\n",
    "batch_size = 32\n",
    "max_num_nodes = 50\n",
    "max_num_edges = 100\n",
    "num_node_features = 10\n",
    "num_edge_features = 8\n",
    "num_classes = 5\n",
    "\n",
    "# # Define placeholders for inputs with dynamic shapes\n",
    "# node_features = tf.keras.Input(shape=(None, num_node_features))  # Variable number of nodes, each with num_node_features features\n",
    "# edge_features = tf.keras.Input(shape=(None, num_edge_features))  # Variable number of edges, each with num_edge_features features\n",
    "# adjacency_matrix = tf.keras.Input(shape=(None, None))  # Variable size adjacency matrix\n",
    "\n",
    "node_features_ = np.random.rand(batch_size, max_num_nodes, num_node_features).astype(np.float32)\n",
    "edge_features_ = np.random.rand(batch_size, max_num_edges, num_edge_features).astype(np.float32)\n",
    "adjacency_matrix_ = np.random.randint(0, 2, size=(batch_size, max_num_nodes, max_num_nodes)).astype(np.float32)\n",
    "\n",
    "# print(node_features_)\n",
    "# print(edge_features_)\n",
    "# print(adjacency_matrix_)\n",
    "\n",
    "# Instantiate the GCN model\n",
    "gcn_model = GCNModel(no_classes=num_classes, hidden_units=64)\n",
    "\n",
    "# Perform forward pass\n",
    "output = gcn_model([node_features_, edge_features_, adjacency_matrix_])"
   ],
   "metadata": {
    "collapsed": false,
    "ExecuteTime": {
     "end_time": "2024-03-21T19:26:51.774385Z",
     "start_time": "2024-03-21T19:26:50.479001Z"
    }
   },
   "id": "264404dd72c762a",
   "execution_count": 35
  },
  {
   "cell_type": "code",
   "outputs": [
    {
     "data": {
      "text/plain": "<tf.Tensor: shape=(32, 100, 5), dtype=float32, numpy=\narray([[[7.0338398e-01, 1.9089876e-02, 2.7737394e-01, 1.9508117e-07,\n         1.5189657e-04],\n        [6.3200849e-01, 6.7678735e-02, 3.0005270e-01, 1.3451352e-06,\n         2.5880727e-04],\n        [8.1729960e-01, 9.1677215e-03, 1.7344971e-01, 1.0758510e-07,\n         8.2791281e-05],\n        ...,\n        [2.0000000e-01, 2.0000000e-01, 2.0000000e-01, 2.0000000e-01,\n         2.0000000e-01],\n        [2.0000000e-01, 2.0000000e-01, 2.0000000e-01, 2.0000000e-01,\n         2.0000000e-01],\n        [2.0000000e-01, 2.0000000e-01, 2.0000000e-01, 2.0000000e-01,\n         2.0000000e-01]],\n\n       [[9.0433198e-01, 2.2352502e-02, 7.2392009e-02, 3.4009558e-06,\n         9.2014100e-04],\n        [9.2741859e-01, 2.6691044e-02, 4.5625307e-02, 1.8744667e-07,\n         2.6492609e-04],\n        [9.3447089e-01, 6.2962049e-03, 5.9214264e-02, 1.8607353e-09,\n         1.8655723e-05],\n        ...,\n        [2.0000000e-01, 2.0000000e-01, 2.0000000e-01, 2.0000000e-01,\n         2.0000000e-01],\n        [2.0000000e-01, 2.0000000e-01, 2.0000000e-01, 2.0000000e-01,\n         2.0000000e-01],\n        [2.0000000e-01, 2.0000000e-01, 2.0000000e-01, 2.0000000e-01,\n         2.0000000e-01]],\n\n       [[7.6084644e-01, 6.7291766e-02, 1.7121910e-01, 6.0764745e-07,\n         6.4203941e-04],\n        [8.8254857e-01, 3.7803262e-02, 7.9544298e-02, 2.9571363e-09,\n         1.0392180e-04],\n        [8.7157691e-01, 4.3948643e-02, 8.3989628e-02, 3.9048450e-07,\n         4.8447234e-04],\n        ...,\n        [2.0000000e-01, 2.0000000e-01, 2.0000000e-01, 2.0000000e-01,\n         2.0000000e-01],\n        [2.0000000e-01, 2.0000000e-01, 2.0000000e-01, 2.0000000e-01,\n         2.0000000e-01],\n        [2.0000000e-01, 2.0000000e-01, 2.0000000e-01, 2.0000000e-01,\n         2.0000000e-01]],\n\n       ...,\n\n       [[9.5603591e-01, 2.5033988e-02, 1.8891653e-02, 6.6865127e-09,\n         3.8509119e-05],\n        [7.8702426e-01, 3.9741654e-02, 1.7309517e-01, 4.3083450e-08,\n         1.3890587e-04],\n        [7.5044632e-01, 2.4504758e-02, 2.2466642e-01, 6.9901020e-08,\n         3.8245114e-04],\n        ...,\n        [2.0000000e-01, 2.0000000e-01, 2.0000000e-01, 2.0000000e-01,\n         2.0000000e-01],\n        [2.0000000e-01, 2.0000000e-01, 2.0000000e-01, 2.0000000e-01,\n         2.0000000e-01],\n        [2.0000000e-01, 2.0000000e-01, 2.0000000e-01, 2.0000000e-01,\n         2.0000000e-01]],\n\n       [[8.8428289e-01, 2.4261365e-02, 9.1410041e-02, 1.5241434e-07,\n         4.5570745e-05],\n        [5.1410562e-01, 1.6070588e-02, 4.6966586e-01, 3.5072122e-07,\n         1.5758083e-04],\n        [5.0865334e-01, 2.8871356e-02, 4.6219045e-01, 7.0611833e-07,\n         2.8414238e-04],\n        ...,\n        [2.0000000e-01, 2.0000000e-01, 2.0000000e-01, 2.0000000e-01,\n         2.0000000e-01],\n        [2.0000000e-01, 2.0000000e-01, 2.0000000e-01, 2.0000000e-01,\n         2.0000000e-01],\n        [2.0000000e-01, 2.0000000e-01, 2.0000000e-01, 2.0000000e-01,\n         2.0000000e-01]],\n\n       [[8.6749864e-01, 1.3175436e-02, 1.1916367e-01, 1.6387564e-07,\n         1.6217580e-04],\n        [9.6944082e-01, 2.0854680e-03, 2.8471293e-02, 2.1411521e-10,\n         2.4802487e-06],\n        [9.5627403e-01, 5.0630132e-03, 3.8660880e-02, 2.2758492e-10,\n         2.0163811e-06],\n        ...,\n        [2.0000000e-01, 2.0000000e-01, 2.0000000e-01, 2.0000000e-01,\n         2.0000000e-01],\n        [2.0000000e-01, 2.0000000e-01, 2.0000000e-01, 2.0000000e-01,\n         2.0000000e-01],\n        [2.0000000e-01, 2.0000000e-01, 2.0000000e-01, 2.0000000e-01,\n         2.0000000e-01]]], dtype=float32)>"
     },
     "execution_count": 36,
     "metadata": {},
     "output_type": "execute_result"
    }
   ],
   "source": [
    "output"
   ],
   "metadata": {
    "collapsed": false,
    "ExecuteTime": {
     "end_time": "2024-03-21T19:26:58.926033Z",
     "start_time": "2024-03-21T19:26:58.921653Z"
    }
   },
   "id": "f95e7f993e2ea1c4",
   "execution_count": 36
  },
  {
   "cell_type": "code",
   "outputs": [],
   "source": [],
   "metadata": {
    "collapsed": false
   },
   "id": "c5553a1180f8b961"
  }
 ],
 "metadata": {
  "kernelspec": {
   "display_name": "Python 3",
   "language": "python",
   "name": "python3"
  },
  "language_info": {
   "codemirror_mode": {
    "name": "ipython",
    "version": 2
   },
   "file_extension": ".py",
   "mimetype": "text/x-python",
   "name": "python",
   "nbconvert_exporter": "python",
   "pygments_lexer": "ipython2",
   "version": "2.7.6"
  }
 },
 "nbformat": 4,
 "nbformat_minor": 5
}
