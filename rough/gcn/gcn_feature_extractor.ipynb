{
 "cells": [
  {
   "cell_type": "code",
   "id": "initial_id",
   "metadata": {
    "collapsed": true,
    "ExecuteTime": {
     "end_time": "2024-04-12T05:27:44.837034Z",
     "start_time": "2024-04-12T05:27:44.833521Z"
    }
   },
   "source": [
    "import torch\n",
    "import torch.nn as nn\n",
    "\n",
    "from stable_baselines3.common.torch_layers import BaseFeaturesExtractor"
   ],
   "outputs": [],
   "execution_count": 8
  },
  {
   "metadata": {
    "ExecuteTime": {
     "end_time": "2024-04-12T05:27:45.319090Z",
     "start_time": "2024-04-12T05:27:45.316495Z"
    }
   },
   "cell_type": "code",
   "source": "#Environment -> observation -> FeatureExtractor -> features -> Neural Network -> action -> Environment",
   "id": "ac69360fcca39fc0",
   "outputs": [],
   "execution_count": 9
  },
  {
   "metadata": {
    "ExecuteTime": {
     "end_time": "2024-04-12T05:27:45.565748Z",
     "start_time": "2024-04-12T05:27:45.560731Z"
    }
   },
   "cell_type": "code",
   "source": [
    "from rough.code.gcn_gru_model import RecurrentGCNGRU\n",
    "\n",
    "\n",
    "class CustomGCNGRUFeatureExtractor(BaseFeaturesExtractor):\n",
    "    def __init__(self, observation_space, features_dim=512):\n",
    "        super(CustomGCNGRUFeatureExtractor, self).__init__(observation_space, features_dim)\n",
    "        \n",
    "        gru_hidden_size = 256\n",
    "        num_gru_layers = 1\n",
    "        self.preprocessing_model = RecurrentGCNGRU(features_dim, gru_hidden_size, num_gru_layers)\n",
    "    \n",
    "        self.linear = nn.Sequential(nn.Linear(int(features_dim / 2), features_dim), nn.ReLU())\n",
    "\n",
    "    def forward(self, observations):\n",
    "        adjacency_matrix = observations[\"adjacency_matrix\"]\n",
    "        node_features = observations[\"node_features\"]\n",
    "        traffic_src = observations[\"traffic_src\"]\n",
    "        traffic_dst = observations[\"traffic_dst\"]\n",
    "        bit_rate = observations[\"bit_rate\"]\n",
    "        spectrum_details = observations[\"spectrum_details\"]\n",
    "        \n",
    "        gcn_gru_output = self.preprocessing_model(node_features, adjacency_matrix)\n",
    "        final_preprocessed_output = self.linear(gcn_gru_output)\n",
    "        \n",
    "        flattened_obs = torch.cat(\n",
    "            (final_preprocessed_output.flatten(start_dim=1),\n",
    "            traffic_src.flatten(start_dim=1),\n",
    "            traffic_dst.flatten(start_dim=1),\n",
    "            bit_rate.flatten(start_dim=1),\n",
    "            spectrum_details.flatten(start_dim=1)), dim=1\n",
    "        )\n",
    "        \n",
    "        return flattened_obs"
   ],
   "id": "6a507d2518cd4d46",
   "outputs": [],
   "execution_count": 10
  },
  {
   "metadata": {},
   "cell_type": "code",
   "outputs": [],
   "execution_count": null,
   "source": "",
   "id": "353b176811581a30"
  }
 ],
 "metadata": {
  "kernelspec": {
   "display_name": "Python 3",
   "language": "python",
   "name": "python3"
  },
  "language_info": {
   "codemirror_mode": {
    "name": "ipython",
    "version": 2
   },
   "file_extension": ".py",
   "mimetype": "text/x-python",
   "name": "python",
   "nbconvert_exporter": "python",
   "pygments_lexer": "ipython2",
   "version": "2.7.6"
  }
 },
 "nbformat": 4,
 "nbformat_minor": 5
}
