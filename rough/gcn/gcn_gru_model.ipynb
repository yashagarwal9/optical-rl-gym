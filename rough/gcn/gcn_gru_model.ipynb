{
 "cells": [
  {
   "cell_type": "code",
   "id": "initial_id",
   "metadata": {
    "collapsed": true,
    "ExecuteTime": {
     "end_time": "2024-04-13T08:44:49.581939Z",
     "start_time": "2024-04-13T08:44:49.577734Z"
    }
   },
   "source": [
    "import torch\n",
    "import torch.nn as nn\n",
    "from torch.nn.parameter import Parameter\n",
    "from torch.nn.modules.module import Module\n",
    "\n",
    "from scipy.sparse import coo_matrix\n",
    "import numpy as np"
   ],
   "outputs": [],
   "execution_count": 3
  },
  {
   "metadata": {
    "ExecuteTime": {
     "end_time": "2024-04-13T08:46:24.343318Z",
     "start_time": "2024-04-13T08:44:50.691147Z"
    }
   },
   "cell_type": "code",
   "source": [
    "from rough.code.gcn_gru_model import RecurrentGCNGRU\n",
    "from rough.code.utils import adjust_tensor_size, normalize_adjacency\n",
    "\n",
    "# Example usage:\n",
    "batch_size = 32\n",
    "num_nodes = 1000\n",
    "num_node_features = 5\n",
    "num_output_features = 512\n",
    "gru_hidden_size = 256\n",
    "num_gru_layers = 1\n",
    "\n",
    "# Create a random feature matrix (num_nodes x num_node_features)\n",
    "random_node_features = torch.rand(batch_size, num_nodes - 10, num_node_features)\n",
    "node_features = adjust_tensor_size(random_node_features, num_nodes, num_node_features)\n",
    "\n",
    "\n",
    "# Create a random adjacency matrix\n",
    "adjacency_matrix = torch.randint(2, size=(batch_size, num_nodes, num_nodes))\n",
    "normalized_adjacency_matrix = normalize_adjacency(adjacency_matrix, num_nodes, batch_size)\n",
    "\n",
    "print(node_features.shape)\n",
    "print(normalized_adjacency_matrix.shape)\n",
    "\n",
    "model = RecurrentGCNGRU(num_output_features, gru_hidden_size, num_gru_layers)\n",
    "\n",
    "# Forward pass\n",
    "gru_output = model(node_features, normalized_adjacency_matrix)\n",
    "gru_output.shape"
   ],
   "id": "944a12ee6f9b3b2a",
   "outputs": [
    {
     "name": "stdout",
     "output_type": "stream",
     "text": [
      "torch.Size([32, 1000, 5])\n",
      "torch.Size([32, 1000, 1000])\n"
     ]
    },
    {
     "data": {
      "text/plain": [
       "torch.Size([32, 256])"
      ]
     },
     "execution_count": 4,
     "metadata": {},
     "output_type": "execute_result"
    }
   ],
   "execution_count": 4
  },
  {
   "metadata": {},
   "cell_type": "code",
   "source": "",
   "id": "9a91cc691903c64f",
   "outputs": [],
   "execution_count": null
  }
 ],
 "metadata": {
  "kernelspec": {
   "display_name": "Python 3",
   "language": "python",
   "name": "python3"
  },
  "language_info": {
   "codemirror_mode": {
    "name": "ipython",
    "version": 2
   },
   "file_extension": ".py",
   "mimetype": "text/x-python",
   "name": "python",
   "nbconvert_exporter": "python",
   "pygments_lexer": "ipython2",
   "version": "2.7.6"
  }
 },
 "nbformat": 4,
 "nbformat_minor": 5
}
